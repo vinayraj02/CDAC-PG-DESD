{
  "nbformat": 4,
  "nbformat_minor": 0,
  "metadata": {
    "colab": {
      "provenance": []
    },
    "kernelspec": {
      "name": "python3",
      "display_name": "Python 3"
    },
    "language_info": {
      "name": "python"
    }
  },
  "cells": [
    {
      "cell_type": "code",
      "execution_count": null,
      "metadata": {
        "id": "dbnE_16KizCK"
      },
      "outputs": [],
      "source": [
        "from numpy.random import rand\n",
        "from numpy.linalg import solve, inv\n",
        "import numpy as np"
      ]
    },
    {
      "cell_type": "code",
      "source": [
        "a = np.array([[1, 2, 3], [3, 4, 6.7], [5, 9.0, 5]])\n",
        "# a.transpose()\n",
        "a"
      ],
      "metadata": {
        "colab": {
          "base_uri": "https://localhost:8080/"
        },
        "id": "R37V1nCRi_rm",
        "outputId": "d459a021-29a7-445f-88aa-fd59c2c40d27"
      },
      "execution_count": null,
      "outputs": [
        {
          "output_type": "execute_result",
          "data": {
            "text/plain": [
              "array([[1. , 2. , 3. ],\n",
              "       [3. , 4. , 6.7],\n",
              "       [5. , 9. , 5. ]])"
            ]
          },
          "metadata": {},
          "execution_count": 3
        }
      ]
    },
    {
      "cell_type": "code",
      "source": [
        "a.transpose()"
      ],
      "metadata": {
        "colab": {
          "base_uri": "https://localhost:8080/"
        },
        "id": "fhwSWie-tLwX",
        "outputId": "fb992aac-32db-413d-d1ec-570e5f9260e7"
      },
      "execution_count": null,
      "outputs": [
        {
          "output_type": "execute_result",
          "data": {
            "text/plain": [
              "array([[1. , 3. , 5. ],\n",
              "       [2. , 4. , 9. ],\n",
              "       [3. , 6.7, 5. ]])"
            ]
          },
          "metadata": {},
          "execution_count": 4
        }
      ]
    },
    {
      "cell_type": "code",
      "source": [
        "inv(a)"
      ],
      "metadata": {
        "colab": {
          "base_uri": "https://localhost:8080/"
        },
        "id": "TvxGCzGGjJKB",
        "outputId": "3e1dc124-6837-4b91-de3a-d9f1bc8e5ce1"
      },
      "execution_count": null,
      "outputs": [
        {
          "output_type": "execute_result",
          "data": {
            "text/plain": [
              "array([[-2.27683616,  0.96045198,  0.07909605],\n",
              "       [ 1.04519774, -0.56497175,  0.1299435 ],\n",
              "       [ 0.39548023,  0.05649718, -0.11299435]])"
            ]
          },
          "metadata": {},
          "execution_count": 5
        }
      ]
    },
    {
      "cell_type": "code",
      "source": [
        "a.shape"
      ],
      "metadata": {
        "colab": {
          "base_uri": "https://localhost:8080/"
        },
        "id": "XKcCVMc-tjT2",
        "outputId": "c37abcaf-45ae-4877-dbee-fc09f6613ab6"
      },
      "execution_count": null,
      "outputs": [
        {
          "output_type": "execute_result",
          "data": {
            "text/plain": [
              "(3, 3)"
            ]
          },
          "metadata": {},
          "execution_count": 10
        }
      ]
    },
    {
      "cell_type": "code",
      "source": [
        "b =  np.array([3, 2, 1])\n",
        "b.shape"
      ],
      "metadata": {
        "id": "kFPeqXY1jAlV",
        "colab": {
          "base_uri": "https://localhost:8080/"
        },
        "outputId": "885fb740-a513-4f01-f119-573a932e107c"
      },
      "execution_count": null,
      "outputs": [
        {
          "output_type": "execute_result",
          "data": {
            "text/plain": [
              "(3,)"
            ]
          },
          "metadata": {},
          "execution_count": 9
        }
      ]
    },
    {
      "cell_type": "code",
      "source": [
        "solve(a, b)  # solve the equation ax = b"
      ],
      "metadata": {
        "colab": {
          "base_uri": "https://localhost:8080/"
        },
        "id": "tO77wUEzjPxH",
        "outputId": "7d6570e2-f042-42d0-dabb-22d9d2e49920"
      },
      "execution_count": null,
      "outputs": [
        {
          "output_type": "execute_result",
          "data": {
            "text/plain": [
              "array([-4.83050847,  2.13559322,  1.18644068])"
            ]
          },
          "metadata": {},
          "execution_count": 11
        }
      ]
    },
    {
      "cell_type": "code",
      "source": [
        "c = rand(3, 3)\n",
        "c"
      ],
      "metadata": {
        "colab": {
          "base_uri": "https://localhost:8080/"
        },
        "id": "Efq8srXzjd0B",
        "outputId": "85687fdf-848f-4706-bd70-5da3ed85428f"
      },
      "execution_count": null,
      "outputs": [
        {
          "output_type": "execute_result",
          "data": {
            "text/plain": [
              "array([[0.31621144, 0.34568338, 0.47130902],\n",
              "       [0.31120923, 0.46884536, 0.44715498],\n",
              "       [0.93254503, 0.84579976, 0.22794675]])"
            ]
          },
          "metadata": {},
          "execution_count": 12
        }
      ]
    },
    {
      "cell_type": "code",
      "source": [
        "c = rand(3, 3) * 20  # create a 3x3 random matrix of values within [0,1] scaled by 20"
      ],
      "metadata": {
        "id": "IU2vmzWPjTdc"
      },
      "execution_count": null,
      "outputs": []
    },
    {
      "cell_type": "code",
      "source": [
        "c"
      ],
      "metadata": {
        "colab": {
          "base_uri": "https://localhost:8080/"
        },
        "id": "rK7CWMdBjWYJ",
        "outputId": "c6d34996-79f3-49f6-b837-7eccacbeb354"
      },
      "execution_count": null,
      "outputs": [
        {
          "output_type": "execute_result",
          "data": {
            "text/plain": [
              "array([[18.87959175, 12.67980686,  3.01569117],\n",
              "       [14.09494794,  4.36485629, 10.16933953],\n",
              "       [ 9.43746541,  9.00887372,  8.56417714]])"
            ]
          },
          "metadata": {},
          "execution_count": 9
        }
      ]
    },
    {
      "cell_type": "code",
      "source": [
        "np.dot(a, c)  # matrix multiplication"
      ],
      "metadata": {
        "colab": {
          "base_uri": "https://localhost:8080/"
        },
        "id": "V0L1l2msjbRM",
        "outputId": "a1258b85-8436-4519-bad4-e77547652d06"
      },
      "execution_count": null,
      "outputs": [
        {
          "output_type": "execute_result",
          "data": {
            "text/plain": [
              "array([[ 64.22713407,  37.73259472,  43.92396322],\n",
              "       [147.63359234,  92.81166944, 110.34170523],\n",
              "       [178.17363378, 165.58058555, 144.05199694]])"
            ]
          },
          "metadata": {},
          "execution_count": 15
        }
      ]
    },
    {
      "cell_type": "code",
      "source": [
        "a @ c  # new way of Mat mul"
      ],
      "metadata": {
        "colab": {
          "base_uri": "https://localhost:8080/"
        },
        "id": "btFReDlcjqal",
        "outputId": "3b29e249-da8d-483b-ab9d-5189ab96b6d9"
      },
      "execution_count": null,
      "outputs": [
        {
          "output_type": "execute_result",
          "data": {
            "text/plain": [
              "array([[ 64.22713407,  37.73259472,  43.92396322],\n",
              "       [147.63359234,  92.81166944, 110.34170523],\n",
              "       [178.17363378, 165.58058555, 144.05199694]])"
            ]
          },
          "metadata": {},
          "execution_count": 16
        }
      ]
    },
    {
      "cell_type": "code",
      "source": [
        "w=[1,2,3]\n",
        "x=[5,6,7]\n",
        "\n",
        "sum=0\n",
        "for i in range(len(w)):\n",
        "  sum = sum + w[i]*x[i]\n",
        "print (sum)\n"
      ],
      "metadata": {
        "id": "NMHsaOURjrm0",
        "colab": {
          "base_uri": "https://localhost:8080/"
        },
        "outputId": "e4b471c1-82aa-43c1-b021-12a08f9651f4"
      },
      "execution_count": 2,
      "outputs": [
        {
          "output_type": "stream",
          "name": "stdout",
          "text": [
            "38\n"
          ]
        }
      ]
    },
    {
      "cell_type": "code",
      "source": [
        "\n"
      ],
      "metadata": {
        "id": "P2QvFB_vNxxK"
      },
      "execution_count": 6,
      "outputs": []
    },
    {
      "cell_type": "code",
      "source": [
        "wa.shape"
      ],
      "metadata": {
        "colab": {
          "base_uri": "https://localhost:8080/"
        },
        "id": "fe7XEO-TN8T2",
        "outputId": "6a8fe3fa-9da3-4b4a-d68e-2f0d643fa66f"
      },
      "execution_count": 7,
      "outputs": [
        {
          "output_type": "execute_result",
          "data": {
            "text/plain": [
              "(3,)"
            ]
          },
          "metadata": {},
          "execution_count": 7
        }
      ]
    },
    {
      "cell_type": "code",
      "source": [
        "wa * xa"
      ],
      "metadata": {
        "colab": {
          "base_uri": "https://localhost:8080/"
        },
        "id": "NZsL5TNxNkks",
        "outputId": "768bb858-aa92-4d54-b575-7bfc4ad3bbf1"
      },
      "execution_count": 8,
      "outputs": [
        {
          "output_type": "execute_result",
          "data": {
            "text/plain": [
              "array([ 5, 12, 21])"
            ]
          },
          "metadata": {},
          "execution_count": 8
        }
      ]
    },
    {
      "cell_type": "code",
      "source": [
        "w=[ [1,2,3],\n",
        "    [9,10,11]\n",
        "  ]\n",
        "x=[5,6,7]\n",
        "import numpy as np\n",
        "wa = np.array(w)\n",
        "xa = np.array(x)\n",
        "print (np.dot(wa,xa))"
      ],
      "metadata": {
        "colab": {
          "base_uri": "https://localhost:8080/"
        },
        "id": "YWyDDBolOJs2",
        "outputId": "4cb56f34-9963-47a2-9ed4-b8e09d33e779"
      },
      "execution_count": 11,
      "outputs": [
        {
          "output_type": "stream",
          "name": "stdout",
          "text": [
            "[ 38 182]\n"
          ]
        }
      ]
    },
    {
      "cell_type": "code",
      "source": [
        "def sigmoid(x):\n",
        "  return 1/(1+np.exp(-x))"
      ],
      "metadata": {
        "id": "sCfMCgTNOQdC"
      },
      "execution_count": 12,
      "outputs": []
    },
    {
      "cell_type": "code",
      "source": [
        "sigmoid(1)"
      ],
      "metadata": {
        "colab": {
          "base_uri": "https://localhost:8080/"
        },
        "id": "JVL_nloEPT1d",
        "outputId": "3397746f-05dd-48d7-8b13-cc7e0caf5ffb"
      },
      "execution_count": 19,
      "outputs": [
        {
          "output_type": "execute_result",
          "data": {
            "text/plain": [
              "0.7310585786300049"
            ]
          },
          "metadata": {},
          "execution_count": 19
        }
      ]
    },
    {
      "cell_type": "code",
      "source": [],
      "metadata": {
        "id": "Q2p5MXs-PWAS"
      },
      "execution_count": null,
      "outputs": []
    }
  ]
}